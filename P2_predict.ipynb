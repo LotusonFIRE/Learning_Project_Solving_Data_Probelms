{
 "cells": [
  {
   "cell_type": "markdown",
   "metadata": {},
   "source": [
    "Basing on the last part, here part 2 I will try to predict the price basing on factors found in last part. And also add other factors to help predict the price."
   ]
  },
  {
   "cell_type": "code",
   "execution_count": 1,
   "metadata": {},
   "outputs": [],
   "source": [
    "import numpy as np\n",
    "import pandas as pd\n",
    "import re"
   ]
  },
  {
   "cell_type": "code",
   "execution_count": 2,
   "metadata": {},
   "outputs": [],
   "source": [
    "# load the data\n",
    "df_listings = pd.read_csv('data/listings.csv')"
   ]
  },
  {
   "cell_type": "code",
   "execution_count": 3,
   "metadata": {},
   "outputs": [],
   "source": [
    "# clean data\n",
    "def remove_symbol(price):\n",
    "    # remove the symbols '$' and ',' in price\n",
    "    if type(price) is str:\n",
    "        return re.sub(\"[\\$,]\",'',price)\n",
    "    return price\n",
    "\n",
    "df_listings.fillna(0, inplace=True)\n",
    "df_listings['price'] = df_listings.price.apply(remove_symbol)\n",
    "df_listings['price'] = df_listings['price'].astype(float)\n",
    "\n",
    "df_listings['extra_people'] = df_listings.extra_people.apply(remove_symbol)\n",
    "df_listings['extra_people'] = df_listings['extra_people'].astype(float)"
   ]
  },
  {
   "cell_type": "code",
   "execution_count": 4,
   "metadata": {},
   "outputs": [],
   "source": [
    "# remove invalid rows\n",
    "df_listings = df_listings[df_listings.room_type != 0]\n",
    "df_listings = df_listings[df_listings.property_type != 0]\n",
    "df_listings = df_listings[df_listings.neighbourhood_cleansed != 0]\n",
    "df_listings = df_listings[df_listings.price > 0]\n",
    "df_listings = df_listings[df_listings.bathrooms > 0]\n",
    "df_listings = df_listings[df_listings.bedrooms > 0]\n",
    "df_listings = df_listings[df_listings.beds > 0]\n",
    "df_listings = df_listings[df_listings.review_scores_rating > 0]\n",
    "df_listings = df_listings[df_listings.reviews_per_month > 0]\n",
    "df_listings = df_listings[df_listings.accommodates > 0]"
   ]
  },
  {
   "cell_type": "code",
   "execution_count": 5,
   "metadata": {},
   "outputs": [],
   "source": [
    "# replace some string type to int type group by their categories\n",
    "def replace_to_category(df, name, num = 1):\n",
    "    column = df[name]\n",
    "    new_col = []\n",
    "    category = {}\n",
    "    for e in column:\n",
    "        if e in category.keys():\n",
    "            new_col.append(category[e])\n",
    "        else:\n",
    "            category[e] = num\n",
    "            num += 1\n",
    "            new_col.append(category[e])\n",
    "    df[name] = new_col\n",
    "    return df\n",
    "\n",
    "df_listings = replace_to_category(df_listings, 'room_type')\n",
    "df_listings = replace_to_category(df_listings, 'property_type')\n",
    "df_listings = replace_to_category(df_listings, 'neighbourhood_cleansed')\n",
    "df_listings = replace_to_category(df_listings, 'instant_bookable', 0)"
   ]
  },
  {
   "cell_type": "code",
   "execution_count": 6,
   "metadata": {
    "scrolled": true
   },
   "outputs": [
    {
     "name": "stdout",
     "output_type": "stream",
     "text": [
      "<class 'pandas.core.frame.DataFrame'>\n",
      "Int64Index: 2843 entries, 0 to 3814\n",
      "Data columns (total 13 columns):\n",
      " #   Column                  Non-Null Count  Dtype  \n",
      "---  ------                  --------------  -----  \n",
      " 0   id                      2843 non-null   int64  \n",
      " 1   neighbourhood_cleansed  2843 non-null   int64  \n",
      " 2   property_type           2843 non-null   int64  \n",
      " 3   room_type               2843 non-null   int64  \n",
      " 4   bedrooms                2843 non-null   float64\n",
      " 5   accommodates            2843 non-null   int64  \n",
      " 6   bathrooms               2843 non-null   float64\n",
      " 7   beds                    2843 non-null   float64\n",
      " 8   price                   2843 non-null   float64\n",
      " 9   extra_people            2843 non-null   float64\n",
      " 10  minimum_nights          2843 non-null   int64  \n",
      " 11  review_scores_rating    2843 non-null   float64\n",
      " 12  instant_bookable        2843 non-null   int64  \n",
      "dtypes: float64(6), int64(7)\n",
      "memory usage: 311.0 KB\n"
     ]
    }
   ],
   "source": [
    "# select the factors that will be used in the prediction model\n",
    "df_new = df_listings[['id','neighbourhood_cleansed','property_type','room_type','bedrooms','accommodates','bathrooms','beds','price','extra_people','minimum_nights','review_scores_rating','instant_bookable']]\n",
    "df_new.info()"
   ]
  },
  {
   "cell_type": "markdown",
   "metadata": {},
   "source": [
    "deep learning part"
   ]
  },
  {
   "cell_type": "code",
   "execution_count": 7,
   "metadata": {},
   "outputs": [],
   "source": [
    "from sklearn.model_selection import train_test_split\n",
    "from sklearn.metrics import mean_squared_error\n",
    "from keras.models import Sequential\n",
    "from keras.layers import Dense\n",
    "from keras.callbacks import EarlyStopping, ModelCheckpoint\n",
    "import matplotlib.pyplot as plt\n",
    "from math import sqrt"
   ]
  },
  {
   "cell_type": "code",
   "execution_count": 8,
   "metadata": {},
   "outputs": [
    {
     "name": "stdout",
     "output_type": "stream",
     "text": [
      "(2132, 11)\n",
      "(711, 11)\n",
      "(2132, 1)\n",
      "(711, 1)\n"
     ]
    }
   ],
   "source": [
    "# divide into x and y\n",
    "X = df_new[['neighbourhood_cleansed','property_type','room_type','bedrooms','accommodates','bathrooms','beds','extra_people','minimum_nights','review_scores_rating','instant_bookable']]\n",
    "y = df_new[['price']]\n",
    "\n",
    "# split into train set and test set\n",
    "X_train, X_test, y_train, y_test = train_test_split(X, y, test_size=0.25, random_state=30)\n",
    "print(X_train.shape)\n",
    "print(X_test.shape)\n",
    "print(y_train.shape)\n",
    "print(y_test.shape)"
   ]
  },
  {
   "cell_type": "code",
   "execution_count": 9,
   "metadata": {},
   "outputs": [
    {
     "name": "stdout",
     "output_type": "stream",
     "text": [
      "Model: \"sequential\"\n",
      "_________________________________________________________________\n",
      "Layer (type)                 Output Shape              Param #   \n",
      "=================================================================\n",
      "dense (Dense)                (None, 128)               1536      \n",
      "_________________________________________________________________\n",
      "dense_1 (Dense)              (None, 64)                8256      \n",
      "_________________________________________________________________\n",
      "dense_2 (Dense)              (None, 32)                2080      \n",
      "_________________________________________________________________\n",
      "dense_3 (Dense)              (None, 1)                 33        \n",
      "=================================================================\n",
      "Total params: 11,905\n",
      "Trainable params: 11,905\n",
      "Non-trainable params: 0\n",
      "_________________________________________________________________\n"
     ]
    }
   ],
   "source": [
    "# make up the model\n",
    "model = Sequential()\n",
    "\n",
    "# dense layer of 128 neurons, relu, input dim = 11\n",
    "model.add(Dense(128, activation='relu', input_dim=11))\n",
    "\n",
    "# 2 more dense layer with 64 and 32 neurons respectively\n",
    "model.add(Dense(64, activation='relu'))\n",
    "model.add(Dense(32, activation='relu'))\n",
    "\n",
    "# output layer\n",
    "model.add(Dense(1))\n",
    "\n",
    "model.summary()"
   ]
  },
  {
   "cell_type": "code",
   "execution_count": 10,
   "metadata": {},
   "outputs": [
    {
     "name": "stdout",
     "output_type": "stream",
     "text": [
      "Epoch 1/50\n",
      "67/67 [==============================] - 16s 1ms/step - loss: 19117.5968 - mse: 19117.5968\n",
      "Epoch 2/50\n",
      "67/67 [==============================] - 0s 956us/step - loss: 7856.6143 - mse: 7856.6143\n",
      "Epoch 3/50\n",
      "67/67 [==============================] - 0s 863us/step - loss: 7944.5332 - mse: 7944.5332\n",
      "Epoch 4/50\n",
      "67/67 [==============================] - 0s 882us/step - loss: 7978.3324 - mse: 7978.3324\n",
      "Epoch 5/50\n",
      "67/67 [==============================] - 0s 909us/step - loss: 7234.6591 - mse: 7234.6591\n",
      "Epoch 6/50\n",
      "67/67 [==============================] - 0s 1ms/step - loss: 4673.1798 - mse: 4673.1798\n",
      "Epoch 7/50\n",
      "67/67 [==============================] - 0s 894us/step - loss: 5323.9236 - mse: 5323.9236\n",
      "Epoch 8/50\n",
      "67/67 [==============================] - 0s 878us/step - loss: 4723.8499 - mse: 4723.8499\n",
      "Epoch 9/50\n",
      "67/67 [==============================] - 0s 900us/step - loss: 3543.3291 - mse: 3543.3291\n",
      "Epoch 10/50\n",
      "67/67 [==============================] - 0s 878us/step - loss: 3659.9685 - mse: 3659.9685\n",
      "Epoch 11/50\n",
      "67/67 [==============================] - 0s 913us/step - loss: 3643.5057 - mse: 3643.5057\n",
      "Epoch 12/50\n",
      "67/67 [==============================] - 0s 909us/step - loss: 3771.9949 - mse: 3771.9949\n",
      "Epoch 13/50\n",
      "67/67 [==============================] - 0s 888us/step - loss: 4021.5449 - mse: 4021.5449\n",
      "Epoch 14/50\n",
      "67/67 [==============================] - 0s 874us/step - loss: 3932.5374 - mse: 3932.5374\n",
      "Epoch 15/50\n",
      "67/67 [==============================] - 0s 878us/step - loss: 3481.5528 - mse: 3481.5528\n",
      "Epoch 16/50\n",
      "67/67 [==============================] - 0s 925us/step - loss: 4047.5288 - mse: 4047.5288\n",
      "Epoch 17/50\n",
      "67/67 [==============================] - 0s 944us/step - loss: 3928.1101 - mse: 3928.1101\n",
      "Epoch 18/50\n",
      "67/67 [==============================] - 0s 939us/step - loss: 3471.4428 - mse: 3471.4428\n",
      "Epoch 19/50\n",
      "67/67 [==============================] - 0s 930us/step - loss: 4741.4073 - mse: 4741.4073\n",
      "Epoch 20/50\n",
      "67/67 [==============================] - 0s 863us/step - loss: 3521.9503 - mse: 3521.9503\n",
      "Epoch 21/50\n",
      "67/67 [==============================] - 0s 924us/step - loss: 4296.5767 - mse: 4296.5767\n",
      "Epoch 22/50\n",
      "67/67 [==============================] - 0s 1ms/step - loss: 3523.6669 - mse: 3523.6669\n",
      "Epoch 23/50\n",
      "67/67 [==============================] - 0s 924us/step - loss: 3898.6397 - mse: 3898.6397\n",
      "Epoch 24/50\n",
      "67/67 [==============================] - 0s 939us/step - loss: 3045.4371 - mse: 3045.4371\n",
      "Epoch 25/50\n",
      "67/67 [==============================] - 0s 863us/step - loss: 3501.4707 - mse: 3501.4707\n",
      "Epoch 26/50\n",
      "67/67 [==============================] - 0s 894us/step - loss: 3791.4898 - mse: 3791.4898\n",
      "Epoch 27/50\n",
      "67/67 [==============================] - 0s 868us/step - loss: 3425.1854 - mse: 3425.1854\n",
      "Epoch 28/50\n",
      "67/67 [==============================] - 0s 954us/step - loss: 3139.6901 - mse: 3139.6901\n",
      "Epoch 29/50\n",
      "67/67 [==============================] - 0s 900us/step - loss: 3186.0296 - mse: 3186.0296\n",
      "Epoch 30/50\n",
      "67/67 [==============================] - 0s 878us/step - loss: 4425.1463 - mse: 4425.1463\n",
      "Epoch 31/50\n",
      "67/67 [==============================] - 0s 1ms/step - loss: 2975.6601 - mse: 2975.6601\n",
      "Epoch 32/50\n",
      "67/67 [==============================] - 0s 1ms/step - loss: 3262.5599 - mse: 3262.5599\n",
      "Epoch 33/50\n",
      "67/67 [==============================] - 0s 976us/step - loss: 3789.5855 - mse: 3789.5855\n",
      "Epoch 34/50\n",
      "67/67 [==============================] - 0s 979us/step - loss: 3588.2687 - mse: 3588.2687\n",
      "Epoch 35/50\n",
      "67/67 [==============================] - 0s 893us/step - loss: 3941.8437 - mse: 3941.8437\n",
      "Epoch 36/50\n",
      "67/67 [==============================] - 0s 914us/step - loss: 3481.9995 - mse: 3481.9995\n",
      "Epoch 37/50\n",
      "67/67 [==============================] - 0s 1ms/step - loss: 3312.6935 - mse: 3312.6935\n",
      "Epoch 38/50\n",
      "67/67 [==============================] - 0s 861us/step - loss: 3506.8934 - mse: 3506.8934\n",
      "Epoch 39/50\n",
      "67/67 [==============================] - 0s 867us/step - loss: 3353.8905 - mse: 3353.8905\n",
      "Epoch 40/50\n",
      "67/67 [==============================] - 0s 892us/step - loss: 4505.8365 - mse: 4505.8365\n",
      "Epoch 41/50\n",
      "67/67 [==============================] - 0s 878us/step - loss: 3544.8093 - mse: 3544.8093\n",
      "Epoch 42/50\n",
      "67/67 [==============================] - 0s 883us/step - loss: 3901.1255 - mse: 3901.1255\n",
      "Epoch 43/50\n",
      "67/67 [==============================] - 0s 888us/step - loss: 4132.7827 - mse: 4132.7827\n",
      "Epoch 44/50\n",
      "67/67 [==============================] - 0s 863us/step - loss: 3642.8323 - mse: 3642.8323\n",
      "Epoch 45/50\n",
      "67/67 [==============================] - 0s 924us/step - loss: 3031.7495 - mse: 3031.7495\n",
      "Epoch 46/50\n",
      "67/67 [==============================] - 0s 839us/step - loss: 3894.2754 - mse: 3894.2754\n",
      "Epoch 47/50\n",
      "67/67 [==============================] - 0s 1ms/step - loss: 3212.5234 - mse: 3212.5234\n",
      "Epoch 48/50\n",
      "67/67 [==============================] - 0s 971us/step - loss: 4018.3065 - mse: 4018.3065\n",
      "Epoch 49/50\n",
      "67/67 [==============================] - 0s 855us/step - loss: 3541.0460 - mse: 3541.0460\n",
      "Epoch 50/50\n",
      "67/67 [==============================] - 0s 931us/step - loss: 3789.7768 - mse: 3789.7768\n",
      "train loss: 3436.1130170521874\n",
      "test loss: 4512.419733814136\n"
     ]
    }
   ],
   "source": [
    "# set up, using adam as optimizer, and MSE as loss\n",
    "model.compile(optimizer='adam', loss='mse', metrics=['mse'])\n",
    "\n",
    "# train the model\n",
    "his = model.fit(X_train, y_train, epochs=50)\n",
    "\n",
    "# cal the train and test accuracy\n",
    "pred_train = np.round(model.predict(X_train), 2)\n",
    "pred = np.round(model.predict(X_test),2)\n",
    "print('train loss:',mean_squared_error(y_train, pred_train))\n",
    "print('test loss:',mean_squared_error(y_test, pred))\n"
   ]
  },
  {
   "cell_type": "code",
   "execution_count": 11,
   "metadata": {},
   "outputs": [
    {
     "data": {
      "text/plain": [
       "<Figure size 720x720 with 0 Axes>"
      ]
     },
     "execution_count": 11,
     "metadata": {},
     "output_type": "execute_result"
    },
    {
     "data": {
      "text/plain": [
       "[<matplotlib.lines.Line2D at 0x21f854304e0>]"
      ]
     },
     "execution_count": 11,
     "metadata": {},
     "output_type": "execute_result"
    },
    {
     "data": {
      "text/plain": [
       "[<matplotlib.lines.Line2D at 0x21f83d3bd30>]"
      ]
     },
     "execution_count": 11,
     "metadata": {},
     "output_type": "execute_result"
    },
    {
     "data": {
      "image/png": "[encoded data removed]",
      "text/plain": [
       "<Figure size 720x720 with 1 Axes>"
      ]
     },
     "metadata": {
      "needs_background": "light"
     },
     "output_type": "display_data"
    }
   ],
   "source": [
    "# analyse the predict result\n",
    "data = np.concatenate([y_test, pred], axis=1)\n",
    "plt.figure(figsize=(10, 10))\n",
    "# the actual values are in orange and the predicted values are in blue\n",
    "plt.plot(data[:,0], marker='.', linestyle='', color='orange')\n",
    "plt.plot(data[:,1], marker='.', linestyle='', color='blue')"
   ]
  },
  {
   "cell_type": "code",
   "execution_count": 12,
   "metadata": {},
   "outputs": [
    {
     "data": {
      "text/plain": [
       "<Figure size 720x720 with 0 Axes>"
      ]
     },
     "execution_count": 12,
     "metadata": {},
     "output_type": "execute_result"
    },
    {
     "data": {
      "text/plain": [
       "[<matplotlib.lines.Line2D at 0x21f85515b38>]"
      ]
     },
     "execution_count": 12,
     "metadata": {},
     "output_type": "execute_result"
    },
    {
     "data": {
      "image/png": "[encoded data removed]",
      "text/plain": [
       "<Figure size 720x720 with 1 Axes>"
      ]
     },
     "metadata": {
      "needs_background": "light"
     },
     "output_type": "display_data"
    }
   ],
   "source": [
    "# and plot the predict error: y_test - pred\n",
    "plt.figure(figsize=(10,10))\n",
    "plt.plot(data[:,0] - data[:,1], marker='1', linestyle='')"
   ]
  }
 ],
 "metadata": {
  "kernelspec": {
   "display_name": "Python 3",
   "language": "python",
   "name": "python3"
  },
  "language_info": {
   "codemirror_mode": {
    "name": "ipython",
    "version": 3
   },
   "file_extension": ".py",
   "mimetype": "text/x-python",
   "name": "python",
   "nbconvert_exporter": "python",
   "pygments_lexer": "ipython3",
   "version": "3.7.2"
  }
 },
 "nbformat": 4,
 "nbformat_minor": 4
}
