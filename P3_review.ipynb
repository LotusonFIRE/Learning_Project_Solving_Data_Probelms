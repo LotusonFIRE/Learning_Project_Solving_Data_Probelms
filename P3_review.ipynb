{
 "cells": [
  {
   "cell_type": "markdown",
   "metadata": {},
   "source": [
    "Part 3. Are there any connections between the number of reviews and price?\n",
    "This part, I will use some language analysing toolkits to analyse the reviews, and see are there any\n",
    "relationships between reviews and prices."
   ]
  },
  {
   "cell_type": "code",
   "execution_count": 1,
   "metadata": {},
   "outputs": [],
   "source": [
    "import numpy as np\n",
    "import pandas as pd\n",
    "import seaborn as sns\n",
    "import nltk\n",
    "# nltk.download('vader_lexicon')"
   ]
  },
  {
   "cell_type": "code",
   "execution_count": 2,
   "metadata": {},
   "outputs": [],
   "source": [
    "# load data\n",
    "df_reviews = pd.read_csv(\"data/reviews.csv\")\n",
    "df_reviews = df_reviews.dropna()"
   ]
  },
  {
   "cell_type": "code",
   "execution_count": 3,
   "metadata": {},
   "outputs": [
    {
     "data": {
      "text/html": [
       "<div>\n",
       "<style scoped>\n",
       "    .dataframe tbody tr th:only-of-type {\n",
       "        vertical-align: middle;\n",
       "    }\n",
       "\n",
       "    .dataframe tbody tr th {\n",
       "        vertical-align: top;\n",
       "    }\n",
       "\n",
       "    .dataframe thead th {\n",
       "        text-align: right;\n",
       "    }\n",
       "</style>\n",
       "<table border=\"1\" class=\"dataframe\">\n",
       "  <thead>\n",
       "    <tr style=\"text-align: right;\">\n",
       "      <th></th>\n",
       "      <th>listing_id</th>\n",
       "      <th>id</th>\n",
       "      <th>date</th>\n",
       "      <th>reviewer_id</th>\n",
       "      <th>reviewer_name</th>\n",
       "      <th>comments</th>\n",
       "      <th>polarity_value</th>\n",
       "      <th>neg</th>\n",
       "      <th>pos</th>\n",
       "      <th>neu</th>\n",
       "      <th>compound</th>\n",
       "    </tr>\n",
       "  </thead>\n",
       "  <tbody>\n",
       "    <tr>\n",
       "      <th>0</th>\n",
       "      <td>7202016</td>\n",
       "      <td>38917982</td>\n",
       "      <td>2015-07-19</td>\n",
       "      <td>28943674</td>\n",
       "      <td>Bianca</td>\n",
       "      <td>Cute and cozy place. Perfect location to every...</td>\n",
       "      <td>{'neg': 0.0, 'neu': 0.462, 'pos': 0.538, 'comp...</td>\n",
       "      <td>0.000</td>\n",
       "      <td>0.538</td>\n",
       "      <td>0.462</td>\n",
       "      <td>0.7901</td>\n",
       "    </tr>\n",
       "    <tr>\n",
       "      <th>1</th>\n",
       "      <td>7202016</td>\n",
       "      <td>39087409</td>\n",
       "      <td>2015-07-20</td>\n",
       "      <td>32440555</td>\n",
       "      <td>Frank</td>\n",
       "      <td>Kelly has a great room in a very central locat...</td>\n",
       "      <td>{'neg': 0.0, 'neu': 0.609, 'pos': 0.391, 'comp...</td>\n",
       "      <td>0.000</td>\n",
       "      <td>0.391</td>\n",
       "      <td>0.609</td>\n",
       "      <td>0.9872</td>\n",
       "    </tr>\n",
       "    <tr>\n",
       "      <th>2</th>\n",
       "      <td>7202016</td>\n",
       "      <td>39820030</td>\n",
       "      <td>2015-07-26</td>\n",
       "      <td>37722850</td>\n",
       "      <td>Ian</td>\n",
       "      <td>Very spacious apartment, and in a great neighb...</td>\n",
       "      <td>{'neg': 0.043, 'neu': 0.772, 'pos': 0.185, 'co...</td>\n",
       "      <td>0.043</td>\n",
       "      <td>0.185</td>\n",
       "      <td>0.772</td>\n",
       "      <td>0.8718</td>\n",
       "    </tr>\n",
       "    <tr>\n",
       "      <th>3</th>\n",
       "      <td>7202016</td>\n",
       "      <td>40813543</td>\n",
       "      <td>2015-08-02</td>\n",
       "      <td>33671805</td>\n",
       "      <td>George</td>\n",
       "      <td>Close to Seattle Center and all it has to offe...</td>\n",
       "      <td>{'neg': 0.035, 'neu': 0.765, 'pos': 0.2, 'comp...</td>\n",
       "      <td>0.035</td>\n",
       "      <td>0.200</td>\n",
       "      <td>0.765</td>\n",
       "      <td>0.8313</td>\n",
       "    </tr>\n",
       "    <tr>\n",
       "      <th>4</th>\n",
       "      <td>7202016</td>\n",
       "      <td>41986501</td>\n",
       "      <td>2015-08-10</td>\n",
       "      <td>34959538</td>\n",
       "      <td>Ming</td>\n",
       "      <td>Kelly was a great host and very accommodating ...</td>\n",
       "      <td>{'neg': 0.0, 'neu': 0.655, 'pos': 0.345, 'comp...</td>\n",
       "      <td>0.000</td>\n",
       "      <td>0.345</td>\n",
       "      <td>0.655</td>\n",
       "      <td>0.9783</td>\n",
       "    </tr>\n",
       "  </tbody>\n",
       "</table>\n",
       "</div>"
      ],
      "text/plain": [
       "   listing_id        id        date  reviewer_id reviewer_name  \\\n",
       "0     7202016  38917982  2015-07-19     28943674        Bianca   \n",
       "1     7202016  39087409  2015-07-20     32440555         Frank   \n",
       "2     7202016  39820030  2015-07-26     37722850           Ian   \n",
       "3     7202016  40813543  2015-08-02     33671805        George   \n",
       "4     7202016  41986501  2015-08-10     34959538          Ming   \n",
       "\n",
       "                                            comments  \\\n",
       "0  Cute and cozy place. Perfect location to every...   \n",
       "1  Kelly has a great room in a very central locat...   \n",
       "2  Very spacious apartment, and in a great neighb...   \n",
       "3  Close to Seattle Center and all it has to offe...   \n",
       "4  Kelly was a great host and very accommodating ...   \n",
       "\n",
       "                                      polarity_value    neg    pos    neu  \\\n",
       "0  {'neg': 0.0, 'neu': 0.462, 'pos': 0.538, 'comp...  0.000  0.538  0.462   \n",
       "1  {'neg': 0.0, 'neu': 0.609, 'pos': 0.391, 'comp...  0.000  0.391  0.609   \n",
       "2  {'neg': 0.043, 'neu': 0.772, 'pos': 0.185, 'co...  0.043  0.185  0.772   \n",
       "3  {'neg': 0.035, 'neu': 0.765, 'pos': 0.2, 'comp...  0.035  0.200  0.765   \n",
       "4  {'neg': 0.0, 'neu': 0.655, 'pos': 0.345, 'comp...  0.000  0.345  0.655   \n",
       "\n",
       "   compound  \n",
       "0    0.7901  \n",
       "1    0.9872  \n",
       "2    0.8718  \n",
       "3    0.8313  \n",
       "4    0.9783  "
      ]
     },
     "execution_count": 3,
     "metadata": {},
     "output_type": "execute_result"
    }
   ],
   "source": [
    "# analyse the reviews, give out the scores to evaluate polarity of the comments\n",
    "# using a build-in analyzer in the NLTK Python library.\n",
    "from nltk.sentiment.vader import SentimentIntensityAnalyzer\n",
    "sid = SentimentIntensityAnalyzer()\n",
    "\n",
    "df_reviews['polarity_value'] = \"Default\"\n",
    "df_reviews['neg'] = 0.0\n",
    "df_reviews['pos'] = 0.0\n",
    "df_reviews['neu'] = 0.0\n",
    "df_reviews['compound'] = 0.0\n",
    "for index,row in df_reviews.iterrows():\n",
    "    ss = sid.polarity_scores(row['comments'])\n",
    "    df_reviews.at[index,'polarity_value'] = ss\n",
    "    df_reviews.at[index,'neg'] = ss['neg']\n",
    "    df_reviews.at[index,'pos'] = ss['pos']\n",
    "    df_reviews.at[index,'neu']= ss['neu']\n",
    "    df_reviews.at[index,'compound'] = ss['compound']\n",
    "df_reviews.head()"
   ]
  },
  {
   "cell_type": "code",
   "execution_count": 4,
   "metadata": {},
   "outputs": [],
   "source": [
    "# save the data\n",
    "df_reviews.to_csv('data/polarity_reviews')"
   ]
  },
  {
   "cell_type": "code",
   "execution_count": 5,
   "metadata": {},
   "outputs": [],
   "source": [
    "# remove the comments that are not in English, as the build-in NLTK analyzer only support English\n",
    "from langdetect import detect\n",
    "\n",
    "def detect_lang(sente):\n",
    "    sente=str(sente)\n",
    "    try:\n",
    "        return detect(sente)\n",
    "    except:\n",
    "        return \"None\"\n",
    "    \n",
    "for index, row in df_reviews.iterrows():\n",
    "    lang = detect_lang(row['comments'])\n",
    "    df_reviews.at[index,'language'] = lang\n",
    "    \n",
    "df_reviewsEng = df_reviews[df_reviews.language=='en']"
   ]
  },
  {
   "cell_type": "code",
   "execution_count": 6,
   "metadata": {},
   "outputs": [],
   "source": [
    "# polarity score for positivity\n",
    "polarDF = df_reviewsEng[['pos']]\n",
    "polarDF = polarDF.groupby(pd.cut(polarDF['pos'], np.arange(0, 1.1, 0.1))).count()\n",
    "polarDF = polarDF.rename(columns={'pos':'Count'})\n",
    "polarDF = polarDF.reset_index()\n",
    "polarDF = polarDF.rename(columns={'pos':'range_i'})\n",
    "for i,r in polarDF.iterrows():\n",
    "    polarDF.at[i,'Range'] = float(str(r['range_i'])[1:4].replace(',',''))\n",
    "    polarDF.at[i,'Sentiment'] = 'positive'\n",
    "del polarDF['range_i']"
   ]
  },
  {
   "cell_type": "code",
   "execution_count": 7,
   "metadata": {},
   "outputs": [],
   "source": [
    "# polarity score for negativity\n",
    "polarDF_neg = df_reviewsEng[['neg']]\n",
    "polarDF_neg = polarDF_neg.groupby(pd.cut(polarDF_neg['neg'], np.arange(0, 1.1, 0.1))).count()\n",
    "polarDF_neg = polarDF_neg.rename(columns={'neg':'Count'})\n",
    "polarDF_neg = polarDF_neg.reset_index()\n",
    "polarDF_neg = polarDF_neg.rename(columns={'neg':'range_i'})\n",
    "for i,r in polarDF_neg.iterrows():\n",
    "    polarDF_neg.at[i,'Range'] = float(str(r['range_i'])[1:4].replace(',', ''))\n",
    "    polarDF_neg.at[i,'Sentiment'] = 'negative'\n",
    "del polarDF_neg['range_i']\n",
    "for i,r in polarDF_neg.iterrows():\n",
    "    polarDF = polarDF.append(pd.Series([r[0],r[1],r[2]],index=['Count','Range','Sentiment']),ignore_index=True)"
   ]
  },
  {
   "cell_type": "code",
   "execution_count": 8,
   "metadata": {},
   "outputs": [],
   "source": [
    "# polarity score for neutrality\n",
    "polarDF_neut = df_reviewsEng[['neu']]\n",
    "polarDF_neut = polarDF_neut.groupby(pd.cut(polarDF_neut[\"neu\"], np.arange(0, 1.0, 0.1))).count()\n",
    "polarDF_neut = polarDF_neut.rename(columns={'neu':'Count'})\n",
    "polarDF_neut = polarDF_neut.reset_index()\n",
    "polarDF_neut = polarDF_neut.rename(columns={'neu':'range_i'})\n",
    "for i,r in polarDF_neut.iterrows():\n",
    "    polarDF_neut.at[i,'Range'] = float(str(r['range_i'])[1:4].replace(',',''))\n",
    "    polarDF_neut.at[i,'Sentiment'] = 'neutral' \n",
    "del polarDF_neut['range_i']\n",
    "for i,r in polarDF_neut.iterrows():\n",
    "    polarDF = polarDF.append(pd.Series([r[0],r[1],r[2]],index=['Count','Range','Sentiment']),ignore_index=True)"
   ]
  },
  {
   "cell_type": "code",
   "execution_count": 9,
   "metadata": {
    "scrolled": false
   },
   "outputs": [
    {
     "data": {
      "text/plain": [
       "<Figure size 720x720 with 0 Axes>"
      ]
     },
     "execution_count": 9,
     "metadata": {},
     "output_type": "execute_result"
    },
    {
     "data": {
      "text/plain": [
       "<seaborn.axisgrid.FacetGrid at 0x2037a082048>"
      ]
     },
     "execution_count": 9,
     "metadata": {},
     "output_type": "execute_result"
    },
    {
     "data": {
      "text/plain": [
       "<Figure size 720x720 with 0 Axes>"
      ]
     },
     "metadata": {},
     "output_type": "display_data"
    },
    {
     "data": {
      "image/png": "[encoded data removed]",
      "text/plain": [
       "<Figure size 1080x360 with 3 Axes>"
      ]
     },
     "metadata": {
      "needs_background": "light"
     },
     "output_type": "display_data"
    }
   ],
   "source": [
    "# Plotting the number of comments against the polarity range\n",
    "import seaborn as sns\n",
    "import matplotlib\n",
    "import matplotlib.pyplot as plt\n",
    "\n",
    "plt.figure(figsize=(10,10))\n",
    "sns.catplot(data=polarDF, x=\"Range\", y=\"Count\", col=\"Sentiment\", kind='point') "
   ]
  },
  {
   "cell_type": "markdown",
   "metadata": {},
   "source": [
    "As the figure shows, most comments have 0 negative polarity. In other words, most comments are either positive or neutral."
   ]
  },
  {
   "cell_type": "markdown",
   "metadata": {},
   "source": [
    "Next, interpreting the relation between number of reviews and prices."
   ]
  },
  {
   "cell_type": "code",
   "execution_count": 10,
   "metadata": {},
   "outputs": [
    {
     "data": {
      "text/plain": [
       "<AxesSubplot:title={'center':'Reviews based on Price'}, xlabel='price'>"
      ]
     },
     "execution_count": 10,
     "metadata": {},
     "output_type": "execute_result"
    },
    {
     "data": {
      "text/plain": [
       "Text(0.5, 0, 'price')"
      ]
     },
     "execution_count": 10,
     "metadata": {},
     "output_type": "execute_result"
    },
    {
     "data": {
      "text/plain": [
       "Text(0, 0.5, 'Number of reviews')"
      ]
     },
     "execution_count": 10,
     "metadata": {},
     "output_type": "execute_result"
    },
    {
     "data": {
      "image/png": "[encoded data removed]",
      "text/plain": [
       "<Figure size 864x576 with 1 Axes>"
      ]
     },
     "metadata": {
      "needs_background": "light"
     },
     "output_type": "display_data"
    }
   ],
   "source": [
    "inputDF = pd.read_csv('data/listings.csv')\n",
    "inputDF=inputDF[['number_of_reviews','price','review_scores_rating']]\n",
    "\n",
    "# replacing NaN values with 0\n",
    "inputDF.fillna(0, inplace=True)\n",
    "\n",
    "#Extracting prices from the table\n",
    "price = inputDF['price']\n",
    "prices=[]\n",
    "\n",
    "#clean the data to make it float\n",
    "for p in price:\n",
    "    p=float(p[1:].replace(',',''))\n",
    "    prices.append(p)\n",
    "\n",
    "#replace the price column with the new column\n",
    "inputDF['price']=prices\n",
    "\n",
    "price_review = inputDF[['number_of_reviews', 'price']].sort_values(by = 'price')\n",
    "\n",
    "price_review.plot(x = 'price', \n",
    "                  y = 'number_of_reviews', \n",
    "                  style = '.',\n",
    "                  figsize =(12,8),\n",
    "                  legend = False,\n",
    "                  title = 'Reviews based on Price')\n",
    "\n",
    "plt.xlabel(\"price\")\n",
    "plt.ylabel(\"Number of reviews\")"
   ]
  },
  {
   "cell_type": "markdown",
   "metadata": {},
   "source": [
    "This figure shows that the listings whose price range around 100 to 300 get the most comments.\n",
    "And the number decreases fast while the price get increased. So that no relation between the number of comments and prices is found."
   ]
  }
 ],
 "metadata": {
  "kernelspec": {
   "display_name": "Python 3",
   "language": "python",
   "name": "python3"
  },
  "language_info": {
   "codemirror_mode": {
    "name": "ipython",
    "version": 3
   },
   "file_extension": ".py",
   "mimetype": "text/x-python",
   "name": "python",
   "nbconvert_exporter": "python",
   "pygments_lexer": "ipython3",
   "version": "3.7.2"
  }
 },
 "nbformat": 4,
 "nbformat_minor": 4
}
